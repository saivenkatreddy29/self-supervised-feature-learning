{
  "nbformat": 4,
  "nbformat_minor": 0,
  "metadata": {
    "colab": {
      "provenance": [],
      "gpuType": "T4"
    },
    "kernelspec": {
      "name": "python3",
      "display_name": "Python 3"
    },
    "language_info": {
      "name": "python"
    },
    "accelerator": "GPU"
  },
  "cells": [
    {
      "cell_type": "markdown",
      "source": [
        "###**SimCLR Simple Contrastive Learning of Visual Representations self-supervised learning algorithm**"
      ],
      "metadata": {
        "id": "QG8O6aHC3C0F"
      }
    },
    {
      "cell_type": "code",
      "source": [
        "pip install timm\n"
      ],
      "metadata": {
        "colab": {
          "base_uri": "https://localhost:8080/"
        },
        "id": "kJTzCnosmRiw",
        "outputId": "4a430acd-a840-416e-a1f0-629e8b49380c"
      },
      "execution_count": null,
      "outputs": [
        {
          "output_type": "stream",
          "name": "stdout",
          "text": [
            "Collecting timm\n",
            "  Downloading timm-0.9.16-py3-none-any.whl (2.2 MB)\n",
            "\u001b[2K     \u001b[90m━━━━━━━━━━━━━━━━━━━━━━━━━━━━━━━━━━━━━━━━\u001b[0m \u001b[32m2.2/2.2 MB\u001b[0m \u001b[31m15.3 MB/s\u001b[0m eta \u001b[36m0:00:00\u001b[0m\n",
            "\u001b[?25hRequirement already satisfied: torch in /usr/local/lib/python3.10/dist-packages (from timm) (2.2.1+cu121)\n",
            "Requirement already satisfied: torchvision in /usr/local/lib/python3.10/dist-packages (from timm) (0.17.1+cu121)\n",
            "Requirement already satisfied: pyyaml in /usr/local/lib/python3.10/dist-packages (from timm) (6.0.1)\n",
            "Requirement already satisfied: huggingface_hub in /usr/local/lib/python3.10/dist-packages (from timm) (0.20.3)\n",
            "Requirement already satisfied: safetensors in /usr/local/lib/python3.10/dist-packages (from timm) (0.4.3)\n",
            "Requirement already satisfied: filelock in /usr/local/lib/python3.10/dist-packages (from huggingface_hub->timm) (3.13.4)\n",
            "Requirement already satisfied: fsspec>=2023.5.0 in /usr/local/lib/python3.10/dist-packages (from huggingface_hub->timm) (2023.6.0)\n",
            "Requirement already satisfied: requests in /usr/local/lib/python3.10/dist-packages (from huggingface_hub->timm) (2.31.0)\n",
            "Requirement already satisfied: tqdm>=4.42.1 in /usr/local/lib/python3.10/dist-packages (from huggingface_hub->timm) (4.66.2)\n",
            "Requirement already satisfied: typing-extensions>=3.7.4.3 in /usr/local/lib/python3.10/dist-packages (from huggingface_hub->timm) (4.11.0)\n",
            "Requirement already satisfied: packaging>=20.9 in /usr/local/lib/python3.10/dist-packages (from huggingface_hub->timm) (24.0)\n",
            "Requirement already satisfied: sympy in /usr/local/lib/python3.10/dist-packages (from torch->timm) (1.12)\n",
            "Requirement already satisfied: networkx in /usr/local/lib/python3.10/dist-packages (from torch->timm) (3.3)\n",
            "Requirement already satisfied: jinja2 in /usr/local/lib/python3.10/dist-packages (from torch->timm) (3.1.3)\n",
            "Collecting nvidia-cuda-nvrtc-cu12==12.1.105 (from torch->timm)\n",
            "  Using cached nvidia_cuda_nvrtc_cu12-12.1.105-py3-none-manylinux1_x86_64.whl (23.7 MB)\n",
            "Collecting nvidia-cuda-runtime-cu12==12.1.105 (from torch->timm)\n",
            "  Using cached nvidia_cuda_runtime_cu12-12.1.105-py3-none-manylinux1_x86_64.whl (823 kB)\n",
            "Collecting nvidia-cuda-cupti-cu12==12.1.105 (from torch->timm)\n",
            "  Using cached nvidia_cuda_cupti_cu12-12.1.105-py3-none-manylinux1_x86_64.whl (14.1 MB)\n",
            "Collecting nvidia-cudnn-cu12==8.9.2.26 (from torch->timm)\n",
            "  Using cached nvidia_cudnn_cu12-8.9.2.26-py3-none-manylinux1_x86_64.whl (731.7 MB)\n",
            "Collecting nvidia-cublas-cu12==12.1.3.1 (from torch->timm)\n",
            "  Using cached nvidia_cublas_cu12-12.1.3.1-py3-none-manylinux1_x86_64.whl (410.6 MB)\n",
            "Collecting nvidia-cufft-cu12==11.0.2.54 (from torch->timm)\n",
            "  Using cached nvidia_cufft_cu12-11.0.2.54-py3-none-manylinux1_x86_64.whl (121.6 MB)\n",
            "Collecting nvidia-curand-cu12==10.3.2.106 (from torch->timm)\n",
            "  Using cached nvidia_curand_cu12-10.3.2.106-py3-none-manylinux1_x86_64.whl (56.5 MB)\n",
            "Collecting nvidia-cusolver-cu12==11.4.5.107 (from torch->timm)\n",
            "  Using cached nvidia_cusolver_cu12-11.4.5.107-py3-none-manylinux1_x86_64.whl (124.2 MB)\n",
            "Collecting nvidia-cusparse-cu12==12.1.0.106 (from torch->timm)\n",
            "  Using cached nvidia_cusparse_cu12-12.1.0.106-py3-none-manylinux1_x86_64.whl (196.0 MB)\n",
            "Collecting nvidia-nccl-cu12==2.19.3 (from torch->timm)\n",
            "  Using cached nvidia_nccl_cu12-2.19.3-py3-none-manylinux1_x86_64.whl (166.0 MB)\n",
            "Collecting nvidia-nvtx-cu12==12.1.105 (from torch->timm)\n",
            "  Using cached nvidia_nvtx_cu12-12.1.105-py3-none-manylinux1_x86_64.whl (99 kB)\n",
            "Requirement already satisfied: triton==2.2.0 in /usr/local/lib/python3.10/dist-packages (from torch->timm) (2.2.0)\n",
            "Collecting nvidia-nvjitlink-cu12 (from nvidia-cusolver-cu12==11.4.5.107->torch->timm)\n",
            "  Using cached nvidia_nvjitlink_cu12-12.4.127-py3-none-manylinux2014_x86_64.whl (21.1 MB)\n",
            "Requirement already satisfied: numpy in /usr/local/lib/python3.10/dist-packages (from torchvision->timm) (1.25.2)\n",
            "Requirement already satisfied: pillow!=8.3.*,>=5.3.0 in /usr/local/lib/python3.10/dist-packages (from torchvision->timm) (9.4.0)\n",
            "Requirement already satisfied: MarkupSafe>=2.0 in /usr/local/lib/python3.10/dist-packages (from jinja2->torch->timm) (2.1.5)\n",
            "Requirement already satisfied: charset-normalizer<4,>=2 in /usr/local/lib/python3.10/dist-packages (from requests->huggingface_hub->timm) (3.3.2)\n",
            "Requirement already satisfied: idna<4,>=2.5 in /usr/local/lib/python3.10/dist-packages (from requests->huggingface_hub->timm) (3.7)\n",
            "Requirement already satisfied: urllib3<3,>=1.21.1 in /usr/local/lib/python3.10/dist-packages (from requests->huggingface_hub->timm) (2.0.7)\n",
            "Requirement already satisfied: certifi>=2017.4.17 in /usr/local/lib/python3.10/dist-packages (from requests->huggingface_hub->timm) (2024.2.2)\n",
            "Requirement already satisfied: mpmath>=0.19 in /usr/local/lib/python3.10/dist-packages (from sympy->torch->timm) (1.3.0)\n",
            "Installing collected packages: nvidia-nvtx-cu12, nvidia-nvjitlink-cu12, nvidia-nccl-cu12, nvidia-curand-cu12, nvidia-cufft-cu12, nvidia-cuda-runtime-cu12, nvidia-cuda-nvrtc-cu12, nvidia-cuda-cupti-cu12, nvidia-cublas-cu12, nvidia-cusparse-cu12, nvidia-cudnn-cu12, nvidia-cusolver-cu12, timm\n",
            "Successfully installed nvidia-cublas-cu12-12.1.3.1 nvidia-cuda-cupti-cu12-12.1.105 nvidia-cuda-nvrtc-cu12-12.1.105 nvidia-cuda-runtime-cu12-12.1.105 nvidia-cudnn-cu12-8.9.2.26 nvidia-cufft-cu12-11.0.2.54 nvidia-curand-cu12-10.3.2.106 nvidia-cusolver-cu12-11.4.5.107 nvidia-cusparse-cu12-12.1.0.106 nvidia-nccl-cu12-2.19.3 nvidia-nvjitlink-cu12-12.4.127 nvidia-nvtx-cu12-12.1.105 timm-0.9.16\n"
          ]
        }
      ]
    },
    {
      "cell_type": "code",
      "source": [
        "import torch\n",
        "import torch.nn as nn\n",
        "import torchvision.transforms as transforms\n",
        "from torch.utils.data import DataLoader\n",
        "from torchvision.datasets import CIFAR10\n",
        "import torchvision.models as models\n",
        "import torchvision\n",
        "import torch.optim as optim\n",
        "from tqdm import tqdm\n",
        "import matplotlib.pyplot as plt\n",
        "from torch.utils.data import Subset\n",
        "import timm"
      ],
      "metadata": {
        "id": "gfKhFmXiYBfu"
      },
      "execution_count": null,
      "outputs": []
    },
    {
      "cell_type": "code",
      "source": [
        "model = model.cuda()"
      ],
      "metadata": {
        "id": "N1Gtt9HmcAL0"
      },
      "execution_count": null,
      "outputs": []
    },
    {
      "cell_type": "code",
      "source": [
        "# Define data augmentations\n",
        "augmentation = transforms.Compose([\n",
        "    transforms.RandomResizedCrop(32),\n",
        "    transforms.RandomHorizontalFlip(p=0.5),\n",
        "    transforms.RandomApply([transforms.ColorJitter(0.4, 0.4, 0.4, 0.1)], p=0.8),\n",
        "    transforms.RandomGrayscale(p=0.2)\n",
        "])\n",
        "\n",
        "# Define tensor transformation\n",
        "tensor_transform = transforms.Compose([\n",
        "    transforms.ToTensor(),\n",
        "    transforms.Normalize((0.4914, 0.4822, 0.4465), (0.2023, 0.1994, 0.2010))\n",
        "])\n",
        "\n",
        "# Load CIFAR-10 dataset\n",
        "full_train_dataset = CIFAR10(root=\"./data\", train=True, download=True, transform=tensor_transform)\n",
        "full_test_dataset = CIFAR10(root=\"./data\", train=False, download=True, transform=tensor_transform)\n",
        "\n",
        "num_classes = 10\n",
        "# Create a subset of the training dataset (10 images per class)\n",
        "train_subset_indices = []\n",
        "for class_idx in range(num_classes):\n",
        "    class_indices = [idx for idx, label in enumerate(full_train_dataset.targets) if label == class_idx]\n",
        "    train_subset_indices.extend(class_indices[:2000])\n",
        "train_dataset = Subset(full_train_dataset, train_subset_indices)\n",
        "\n",
        "# Create a subset of the test dataset (10 images per class)\n",
        "test_subset_indices = []\n",
        "for class_idx in range(num_classes):\n",
        "    class_indices = [idx for idx, label in enumerate(full_test_dataset.targets) if label == class_idx]\n",
        "    test_subset_indices.extend(class_indices[:500])\n",
        "test_dataset = Subset(full_test_dataset, test_subset_indices)\n",
        "\n",
        "# Create data loaders\n",
        "train_loader = DataLoader(train_dataset, batch_size=256, shuffle=True, num_workers=4, drop_last=True)\n",
        "test_loader = DataLoader(test_dataset, batch_size=256, shuffle=False, num_workers=4, drop_last=True)"
      ],
      "metadata": {
        "colab": {
          "base_uri": "https://localhost:8080/"
        },
        "id": "Wy9DiNNjcLd8",
        "outputId": "e820b228-4b3a-440f-81b8-5ff09efbb0fa"
      },
      "execution_count": null,
      "outputs": [
        {
          "output_type": "stream",
          "name": "stdout",
          "text": [
            "Files already downloaded and verified\n",
            "Files already downloaded and verified\n"
          ]
        }
      ]
    },
    {
      "cell_type": "code",
      "source": [
        "# Define ResNet-18 encoder\n",
        "class ResNetEncoder(nn.Module):\n",
        "    def __init__(self):\n",
        "        super(ResNetEncoder, self).__init__()\n",
        "        self.encoder = torchvision.models.resnet18(pretrained=False)\n",
        "        self.encoder.fc = nn.Identity()  # Replace the last fully connected layer\n",
        "\n",
        "    def forward(self, x):\n",
        "        x = self.encoder(x)\n",
        "        return x\n",
        "\n",
        "# Define SimCLR model\n",
        "class SimCLR(nn.Module):\n",
        "    def __init__(self, encoder, feature_dim=128):  # Specify the desired feature dimension\n",
        "        super(SimCLR, self).__init__()\n",
        "        self.encoder = encoder\n",
        "        self.projector = nn.Sequential(\n",
        "            nn.Linear(512, feature_dim),  # Adjust the output size of the projection head\n",
        "            nn.ReLU(),\n",
        "            nn.Linear(feature_dim, feature_dim)  # Adjust the output size of the projection head\n",
        "        )\n",
        "\n",
        "    def forward(self, x):\n",
        "        x = self.encoder(x)\n",
        "        x = x.view(x.size(0), -1)\n",
        "        x = self.projector(x)\n",
        "        return x\n",
        "\n",
        "# Define contrastive loss\n",
        "def contrastive_loss(features):\n",
        "    features = nn.functional.normalize(features, dim=1)\n",
        "    similarity_matrix = torch.matmul(features, features.T)\n",
        "    batch_size = similarity_matrix.shape[0] // 2\n",
        "    mask = torch.eye(batch_size * 2, dtype=torch.bool).to(similarity_matrix.device)  # Adjust the mask size\n",
        "    similarity_matrix = similarity_matrix.masked_fill(mask, -9e15)\n",
        "    positive_mask = torch.diagonal(similarity_matrix, offset=batch_size)\n",
        "    negative_mask = similarity_matrix[~mask].view(batch_size, -1)\n",
        "    positive_logits = positive_mask.unsqueeze(-1)\n",
        "    negative_logits = negative_mask\n",
        "    logits = torch.cat([positive_logits, negative_logits], dim=-1)\n",
        "    labels = torch.zeros(batch_size, dtype=torch.long).to(logits.device)\n",
        "    loss = nn.functional.cross_entropy(logits, labels)\n",
        "    return loss"
      ],
      "metadata": {
        "id": "DOW_de1FdRpB"
      },
      "execution_count": null,
      "outputs": []
    },
    {
      "cell_type": "code",
      "source": [
        "# Initialize model and optimizer\n",
        "encoder = ResNetEncoder()\n",
        "model = SimCLR(encoder)\n",
        "model = model.cuda()  # Move the model to GPU\n",
        "optimizer = torch.optim.Adam(model.parameters(), lr=0.001)\n",
        "\n",
        "# Training loop\n",
        "train_losses = []\n",
        "train_accuracies = []\n",
        "train_top1_accuracies = []\n",
        "train_top3_accuracies = []\n",
        "\n",
        "for epoch in range(100):\n",
        "    running_loss = 0.0\n",
        "    correct = 0\n",
        "    top1_correct = 0\n",
        "    top3_correct = 0\n",
        "    total = 0\n",
        "\n",
        "    for images, labels in tqdm(train_loader):\n",
        "        images = images.cuda(non_blocking=True)\n",
        "        images1 = augmentation(images)\n",
        "        images2 = augmentation(images)\n",
        "        features1 = model(images1)\n",
        "        features2 = model(images2)\n",
        "        features = torch.cat([features1, features2], dim=0)\n",
        "        loss = contrastive_loss(features)\n",
        "\n",
        "        optimizer.zero_grad()\n",
        "        loss.backward()\n",
        "        optimizer.step()\n",
        "\n",
        "        running_loss += loss.item()\n",
        "\n",
        "        # Evaluation\n",
        "        with torch.no_grad():\n",
        "            outputs = model(images)\n",
        "            _, predicted = torch.max(outputs.data, 1)\n",
        "            total += labels.size(0)\n",
        "            correct += (predicted == labels.cuda()).sum().item()\n",
        "\n",
        "            # Top-1 accuracy\n",
        "            top1_accuracy = (predicted == labels.cuda()).float().sum() / labels.size(0)\n",
        "            top1_correct += top1_accuracy.item()\n",
        "\n",
        "            # Top-3 accuracy\n",
        "            _, top3_predictions = outputs.topk(3, 1, True, True)\n",
        "            top3_accuracy = torch.any(top3_predictions == labels.cuda().view(-1, 1), dim=1).float().sum() / labels.size(0)\n",
        "            top3_correct += top3_accuracy.item()\n",
        "\n",
        "    epoch_loss = running_loss / len(train_loader)\n",
        "    epoch_accuracy = 100.0 * correct / total\n",
        "    epoch_top1_accuracy = 100.0 * top1_correct / len(train_loader)\n",
        "    epoch_top3_accuracy = 100.0 * top3_correct / len(train_loader)\n",
        "\n",
        "    train_losses.append(epoch_loss)\n",
        "    train_accuracies.append(epoch_accuracy)\n",
        "    train_top1_accuracies.append(epoch_top1_accuracy)\n",
        "    train_top3_accuracies.append(epoch_top3_accuracy)\n",
        "\n",
        "    print(f\"Epoch {epoch + 1}, Loss: {epoch_loss:.4f}, Accuracy: {epoch_accuracy:.2f}%, Top-1 Accuracy: {epoch_top1_accuracy:.2f}%, Top-3 Accuracy: {epoch_top3_accuracy:.2f}%\")"
      ],
      "metadata": {
        "colab": {
          "base_uri": "https://localhost:8080/"
        },
        "id": "Q4nhb9kDdZ8X",
        "outputId": "7312665d-43db-4d05-c491-3dc5c8c2f8c1"
      },
      "execution_count": null,
      "outputs": [
        {
          "metadata": {
            "tags": null
          },
          "name": "stderr",
          "output_type": "stream",
          "text": [
            "100%|██████████| 78/78 [00:19<00:00,  4.03it/s]\n"
          ]
        },
        {
          "metadata": {
            "tags": null
          },
          "name": "stdout",
          "output_type": "stream",
          "text": [
            "Epoch 1, Loss: 6.4762, Accuracy: 0.85%, Top-1 Accuracy: 0.85%, Top-3 Accuracy: 1.85%\n"
          ]
        },
        {
          "metadata": {
            "tags": null
          },
          "name": "stderr",
          "output_type": "stream",
          "text": [
            "100%|██████████| 78/78 [00:19<00:00,  4.04it/s]\n"
          ]
        },
        {
          "metadata": {
            "tags": null
          },
          "name": "stdout",
          "output_type": "stream",
          "text": [
            "Epoch 2, Loss: 6.3885, Accuracy: 1.25%, Top-1 Accuracy: 1.25%, Top-3 Accuracy: 2.47%\n"
          ]
        },
        {
          "metadata": {
            "tags": null
          },
          "name": "stderr",
          "output_type": "stream",
          "text": [
            "100%|██████████| 78/78 [00:18<00:00,  4.17it/s]\n"
          ]
        },
        {
          "metadata": {
            "tags": null
          },
          "name": "stdout",
          "output_type": "stream",
          "text": [
            "Epoch 3, Loss: 6.3288, Accuracy: 1.28%, Top-1 Accuracy: 1.28%, Top-3 Accuracy: 2.69%\n"
          ]
        },
        {
          "metadata": {
            "tags": null
          },
          "name": "stderr",
          "output_type": "stream",
          "text": [
            "100%|██████████| 78/78 [00:18<00:00,  4.22it/s]\n"
          ]
        },
        {
          "metadata": {
            "tags": null
          },
          "name": "stdout",
          "output_type": "stream",
          "text": [
            "Epoch 4, Loss: 6.3414, Accuracy: 1.13%, Top-1 Accuracy: 1.13%, Top-3 Accuracy: 2.67%\n"
          ]
        },
        {
          "metadata": {
            "tags": null
          },
          "name": "stderr",
          "output_type": "stream",
          "text": [
            "100%|██████████| 78/78 [00:18<00:00,  4.27it/s]\n"
          ]
        },
        {
          "metadata": {
            "tags": null
          },
          "name": "stdout",
          "output_type": "stream",
          "text": [
            "Epoch 5, Loss: 6.3085, Accuracy: 1.01%, Top-1 Accuracy: 1.01%, Top-3 Accuracy: 2.25%\n"
          ]
        },
        {
          "metadata": {
            "tags": null
          },
          "name": "stderr",
          "output_type": "stream",
          "text": [
            "100%|██████████| 78/78 [00:19<00:00,  4.04it/s]\n"
          ]
        },
        {
          "metadata": {
            "tags": null
          },
          "name": "stdout",
          "output_type": "stream",
          "text": [
            "Epoch 6, Loss: 6.3019, Accuracy: 1.10%, Top-1 Accuracy: 1.10%, Top-3 Accuracy: 2.94%\n"
          ]
        },
        {
          "metadata": {
            "tags": null
          },
          "name": "stderr",
          "output_type": "stream",
          "text": [
            "100%|██████████| 78/78 [00:18<00:00,  4.19it/s]\n"
          ]
        },
        {
          "metadata": {
            "tags": null
          },
          "name": "stdout",
          "output_type": "stream",
          "text": [
            "Epoch 7, Loss: 6.3208, Accuracy: 0.42%, Top-1 Accuracy: 0.42%, Top-3 Accuracy: 1.66%\n"
          ]
        },
        {
          "metadata": {
            "tags": null
          },
          "name": "stderr",
          "output_type": "stream",
          "text": [
            "100%|██████████| 78/78 [00:18<00:00,  4.28it/s]\n"
          ]
        },
        {
          "metadata": {
            "tags": null
          },
          "name": "stdout",
          "output_type": "stream",
          "text": [
            "Epoch 8, Loss: 6.3216, Accuracy: 0.64%, Top-1 Accuracy: 0.64%, Top-3 Accuracy: 2.41%\n"
          ]
        },
        {
          "metadata": {
            "tags": null
          },
          "name": "stderr",
          "output_type": "stream",
          "text": [
            "100%|██████████| 78/78 [00:18<00:00,  4.15it/s]\n"
          ]
        },
        {
          "metadata": {
            "tags": null
          },
          "name": "stdout",
          "output_type": "stream",
          "text": [
            "Epoch 9, Loss: 6.3064, Accuracy: 0.33%, Top-1 Accuracy: 0.33%, Top-3 Accuracy: 1.47%\n"
          ]
        },
        {
          "metadata": {
            "tags": null
          },
          "name": "stderr",
          "output_type": "stream",
          "text": [
            "100%|██████████| 78/78 [00:19<00:00,  4.08it/s]\n"
          ]
        },
        {
          "metadata": {
            "tags": null
          },
          "name": "stdout",
          "output_type": "stream",
          "text": [
            "Epoch 10, Loss: 6.3129, Accuracy: 0.30%, Top-1 Accuracy: 0.30%, Top-3 Accuracy: 1.93%\n"
          ]
        },
        {
          "metadata": {
            "tags": null
          },
          "name": "stderr",
          "output_type": "stream",
          "text": [
            "100%|██████████| 78/78 [00:18<00:00,  4.21it/s]\n"
          ]
        },
        {
          "metadata": {
            "tags": null
          },
          "name": "stdout",
          "output_type": "stream",
          "text": [
            "Epoch 11, Loss: 6.2707, Accuracy: 0.20%, Top-1 Accuracy: 0.20%, Top-3 Accuracy: 1.76%\n"
          ]
        },
        {
          "metadata": {
            "tags": null
          },
          "name": "stderr",
          "output_type": "stream",
          "text": [
            "100%|██████████| 78/78 [00:18<00:00,  4.21it/s]\n"
          ]
        },
        {
          "metadata": {
            "tags": null
          },
          "name": "stdout",
          "output_type": "stream",
          "text": [
            "Epoch 12, Loss: 6.3096, Accuracy: 0.29%, Top-1 Accuracy: 0.29%, Top-3 Accuracy: 1.88%\n"
          ]
        },
        {
          "metadata": {
            "tags": null
          },
          "name": "stderr",
          "output_type": "stream",
          "text": [
            "100%|██████████| 78/78 [00:18<00:00,  4.12it/s]\n"
          ]
        },
        {
          "metadata": {
            "tags": null
          },
          "name": "stdout",
          "output_type": "stream",
          "text": [
            "Epoch 13, Loss: 6.2977, Accuracy: 0.21%, Top-1 Accuracy: 0.21%, Top-3 Accuracy: 1.62%\n"
          ]
        },
        {
          "metadata": {
            "tags": null
          },
          "name": "stderr",
          "output_type": "stream",
          "text": [
            "100%|██████████| 78/78 [00:18<00:00,  4.18it/s]\n"
          ]
        },
        {
          "metadata": {
            "tags": null
          },
          "name": "stdout",
          "output_type": "stream",
          "text": [
            "Epoch 14, Loss: 6.2898, Accuracy: 0.22%, Top-1 Accuracy: 0.22%, Top-3 Accuracy: 1.50%\n"
          ]
        },
        {
          "metadata": {
            "tags": null
          },
          "name": "stderr",
          "output_type": "stream",
          "text": [
            "100%|██████████| 78/78 [00:18<00:00,  4.29it/s]\n"
          ]
        },
        {
          "metadata": {
            "tags": null
          },
          "name": "stdout",
          "output_type": "stream",
          "text": [
            "Epoch 15, Loss: 6.3075, Accuracy: 0.22%, Top-1 Accuracy: 0.22%, Top-3 Accuracy: 1.61%\n"
          ]
        },
        {
          "metadata": {
            "tags": null
          },
          "name": "stderr",
          "output_type": "stream",
          "text": [
            "100%|██████████| 78/78 [00:19<00:00,  3.99it/s]\n"
          ]
        },
        {
          "metadata": {
            "tags": null
          },
          "name": "stdout",
          "output_type": "stream",
          "text": [
            "Epoch 16, Loss: 6.2637, Accuracy: 0.30%, Top-1 Accuracy: 0.30%, Top-3 Accuracy: 1.70%\n"
          ]
        },
        {
          "metadata": {
            "tags": null
          },
          "name": "stderr",
          "output_type": "stream",
          "text": [
            "100%|██████████| 78/78 [00:18<00:00,  4.12it/s]\n"
          ]
        },
        {
          "metadata": {
            "tags": null
          },
          "name": "stdout",
          "output_type": "stream",
          "text": [
            "Epoch 17, Loss: 6.2421, Accuracy: 0.28%, Top-1 Accuracy: 0.28%, Top-3 Accuracy: 1.29%\n"
          ]
        },
        {
          "metadata": {
            "tags": null
          },
          "name": "stderr",
          "output_type": "stream",
          "text": [
            "100%|██████████| 78/78 [00:18<00:00,  4.11it/s]\n"
          ]
        },
        {
          "metadata": {
            "tags": null
          },
          "name": "stdout",
          "output_type": "stream",
          "text": [
            "Epoch 18, Loss: 6.2922, Accuracy: 0.48%, Top-1 Accuracy: 0.48%, Top-3 Accuracy: 1.69%\n"
          ]
        },
        {
          "metadata": {
            "tags": null
          },
          "name": "stderr",
          "output_type": "stream",
          "text": [
            "100%|██████████| 78/78 [00:18<00:00,  4.11it/s]\n"
          ]
        },
        {
          "metadata": {
            "tags": null
          },
          "name": "stdout",
          "output_type": "stream",
          "text": [
            "Epoch 19, Loss: 6.2923, Accuracy: 0.47%, Top-1 Accuracy: 0.47%, Top-3 Accuracy: 2.15%\n"
          ]
        },
        {
          "metadata": {
            "tags": null
          },
          "name": "stderr",
          "output_type": "stream",
          "text": [
            "100%|██████████| 78/78 [00:18<00:00,  4.18it/s]\n"
          ]
        },
        {
          "metadata": {
            "tags": null
          },
          "name": "stdout",
          "output_type": "stream",
          "text": [
            "Epoch 20, Loss: 6.2911, Accuracy: 0.34%, Top-1 Accuracy: 0.34%, Top-3 Accuracy: 1.50%\n"
          ]
        },
        {
          "metadata": {
            "tags": null
          },
          "name": "stderr",
          "output_type": "stream",
          "text": [
            "100%|██████████| 78/78 [00:18<00:00,  4.33it/s]\n"
          ]
        },
        {
          "metadata": {
            "tags": null
          },
          "name": "stdout",
          "output_type": "stream",
          "text": [
            "Epoch 21, Loss: 6.2750, Accuracy: 0.55%, Top-1 Accuracy: 0.55%, Top-3 Accuracy: 1.77%\n"
          ]
        },
        {
          "metadata": {
            "tags": null
          },
          "name": "stderr",
          "output_type": "stream",
          "text": [
            "100%|██████████| 78/78 [00:19<00:00,  4.05it/s]\n"
          ]
        },
        {
          "metadata": {
            "tags": null
          },
          "name": "stdout",
          "output_type": "stream",
          "text": [
            "Epoch 22, Loss: 6.2504, Accuracy: 0.42%, Top-1 Accuracy: 0.42%, Top-3 Accuracy: 1.82%\n"
          ]
        },
        {
          "metadata": {
            "tags": null
          },
          "name": "stderr",
          "output_type": "stream",
          "text": [
            "100%|██████████| 78/78 [00:18<00:00,  4.13it/s]\n"
          ]
        },
        {
          "metadata": {
            "tags": null
          },
          "name": "stdout",
          "output_type": "stream",
          "text": [
            "Epoch 23, Loss: 6.2441, Accuracy: 0.47%, Top-1 Accuracy: 0.47%, Top-3 Accuracy: 1.51%\n"
          ]
        },
        {
          "metadata": {
            "tags": null
          },
          "name": "stderr",
          "output_type": "stream",
          "text": [
            "100%|██████████| 78/78 [00:18<00:00,  4.25it/s]\n"
          ]
        },
        {
          "metadata": {
            "tags": null
          },
          "name": "stdout",
          "output_type": "stream",
          "text": [
            "Epoch 24, Loss: 6.2885, Accuracy: 0.38%, Top-1 Accuracy: 0.38%, Top-3 Accuracy: 1.23%\n"
          ]
        },
        {
          "metadata": {
            "tags": null
          },
          "name": "stderr",
          "output_type": "stream",
          "text": [
            "100%|██████████| 78/78 [00:18<00:00,  4.31it/s]\n"
          ]
        },
        {
          "metadata": {
            "tags": null
          },
          "name": "stdout",
          "output_type": "stream",
          "text": [
            "Epoch 25, Loss: 6.2631, Accuracy: 0.39%, Top-1 Accuracy: 0.39%, Top-3 Accuracy: 1.32%\n"
          ]
        },
        {
          "metadata": {
            "tags": null
          },
          "name": "stderr",
          "output_type": "stream",
          "text": [
            "100%|██████████| 78/78 [00:18<00:00,  4.19it/s]\n"
          ]
        },
        {
          "metadata": {
            "tags": null
          },
          "name": "stdout",
          "output_type": "stream",
          "text": [
            "Epoch 26, Loss: 6.2472, Accuracy: 0.51%, Top-1 Accuracy: 0.51%, Top-3 Accuracy: 1.65%\n"
          ]
        },
        {
          "metadata": {
            "tags": null
          },
          "name": "stderr",
          "output_type": "stream",
          "text": [
            "100%|██████████| 78/78 [00:18<00:00,  4.12it/s]\n"
          ]
        },
        {
          "metadata": {
            "tags": null
          },
          "name": "stdout",
          "output_type": "stream",
          "text": [
            "Epoch 27, Loss: 6.2849, Accuracy: 0.62%, Top-1 Accuracy: 0.62%, Top-3 Accuracy: 1.88%\n"
          ]
        },
        {
          "metadata": {
            "tags": null
          },
          "name": "stderr",
          "output_type": "stream",
          "text": [
            "100%|██████████| 78/78 [00:18<00:00,  4.13it/s]\n"
          ]
        },
        {
          "metadata": {
            "tags": null
          },
          "name": "stdout",
          "output_type": "stream",
          "text": [
            "Epoch 28, Loss: 6.2401, Accuracy: 0.65%, Top-1 Accuracy: 0.65%, Top-3 Accuracy: 2.04%\n"
          ]
        },
        {
          "metadata": {
            "tags": null
          },
          "name": "stderr",
          "output_type": "stream",
          "text": [
            "100%|██████████| 78/78 [00:18<00:00,  4.17it/s]\n"
          ]
        },
        {
          "metadata": {
            "tags": null
          },
          "name": "stdout",
          "output_type": "stream",
          "text": [
            "Epoch 29, Loss: 6.2223, Accuracy: 0.42%, Top-1 Accuracy: 0.42%, Top-3 Accuracy: 1.27%\n"
          ]
        },
        {
          "metadata": {
            "tags": null
          },
          "name": "stderr",
          "output_type": "stream",
          "text": [
            "100%|██████████| 78/78 [00:18<00:00,  4.17it/s]\n"
          ]
        },
        {
          "metadata": {
            "tags": null
          },
          "name": "stdout",
          "output_type": "stream",
          "text": [
            "Epoch 30, Loss: 6.2755, Accuracy: 0.37%, Top-1 Accuracy: 0.37%, Top-3 Accuracy: 1.35%\n"
          ]
        },
        {
          "metadata": {
            "tags": null
          },
          "name": "stderr",
          "output_type": "stream",
          "text": [
            "100%|██████████| 78/78 [00:18<00:00,  4.11it/s]\n"
          ]
        },
        {
          "metadata": {
            "tags": null
          },
          "name": "stdout",
          "output_type": "stream",
          "text": [
            "Epoch 31, Loss: 6.2235, Accuracy: 0.46%, Top-1 Accuracy: 0.46%, Top-3 Accuracy: 1.62%\n"
          ]
        },
        {
          "metadata": {
            "tags": null
          },
          "name": "stderr",
          "output_type": "stream",
          "text": [
            "100%|██████████| 78/78 [00:19<00:00,  4.00it/s]\n"
          ]
        },
        {
          "metadata": {
            "tags": null
          },
          "name": "stdout",
          "output_type": "stream",
          "text": [
            "Epoch 32, Loss: 6.2280, Accuracy: 0.51%, Top-1 Accuracy: 0.51%, Top-3 Accuracy: 1.66%\n"
          ]
        },
        {
          "metadata": {
            "tags": null
          },
          "name": "stderr",
          "output_type": "stream",
          "text": [
            "100%|██████████| 78/78 [00:19<00:00,  4.03it/s]\n"
          ]
        },
        {
          "metadata": {
            "tags": null
          },
          "name": "stdout",
          "output_type": "stream",
          "text": [
            "Epoch 33, Loss: 6.2495, Accuracy: 0.54%, Top-1 Accuracy: 0.54%, Top-3 Accuracy: 1.55%\n"
          ]
        },
        {
          "metadata": {
            "tags": null
          },
          "name": "stderr",
          "output_type": "stream",
          "text": [
            "100%|██████████| 78/78 [00:18<00:00,  4.16it/s]\n"
          ]
        },
        {
          "metadata": {
            "tags": null
          },
          "name": "stdout",
          "output_type": "stream",
          "text": [
            "Epoch 34, Loss: 6.2625, Accuracy: 0.53%, Top-1 Accuracy: 0.53%, Top-3 Accuracy: 1.56%\n"
          ]
        },
        {
          "metadata": {
            "tags": null
          },
          "name": "stderr",
          "output_type": "stream",
          "text": [
            "100%|██████████| 78/78 [00:18<00:00,  4.19it/s]\n"
          ]
        },
        {
          "metadata": {
            "tags": null
          },
          "name": "stdout",
          "output_type": "stream",
          "text": [
            "Epoch 35, Loss: 6.2299, Accuracy: 0.49%, Top-1 Accuracy: 0.49%, Top-3 Accuracy: 1.57%\n"
          ]
        },
        {
          "metadata": {
            "tags": null
          },
          "name": "stderr",
          "output_type": "stream",
          "text": [
            "100%|██████████| 78/78 [00:17<00:00,  4.43it/s]\n"
          ]
        },
        {
          "metadata": {
            "tags": null
          },
          "name": "stdout",
          "output_type": "stream",
          "text": [
            "Epoch 36, Loss: 6.2384, Accuracy: 0.33%, Top-1 Accuracy: 0.33%, Top-3 Accuracy: 1.45%\n"
          ]
        },
        {
          "metadata": {
            "tags": null
          },
          "name": "stderr",
          "output_type": "stream",
          "text": [
            "100%|██████████| 78/78 [00:17<00:00,  4.35it/s]\n"
          ]
        },
        {
          "metadata": {
            "tags": null
          },
          "name": "stdout",
          "output_type": "stream",
          "text": [
            "Epoch 37, Loss: 6.2644, Accuracy: 0.36%, Top-1 Accuracy: 0.36%, Top-3 Accuracy: 1.28%\n"
          ]
        },
        {
          "metadata": {
            "tags": null
          },
          "name": "stderr",
          "output_type": "stream",
          "text": [
            "100%|██████████| 78/78 [00:19<00:00,  4.06it/s]\n"
          ]
        },
        {
          "metadata": {
            "tags": null
          },
          "name": "stdout",
          "output_type": "stream",
          "text": [
            "Epoch 38, Loss: 6.2504, Accuracy: 0.34%, Top-1 Accuracy: 0.34%, Top-3 Accuracy: 1.16%\n"
          ]
        },
        {
          "metadata": {
            "tags": null
          },
          "name": "stderr",
          "output_type": "stream",
          "text": [
            "100%|██████████| 78/78 [00:19<00:00,  4.10it/s]\n"
          ]
        },
        {
          "metadata": {
            "tags": null
          },
          "name": "stdout",
          "output_type": "stream",
          "text": [
            "Epoch 39, Loss: 6.2367, Accuracy: 0.36%, Top-1 Accuracy: 0.36%, Top-3 Accuracy: 1.15%\n"
          ]
        },
        {
          "metadata": {
            "tags": null
          },
          "name": "stderr",
          "output_type": "stream",
          "text": [
            "100%|██████████| 78/78 [00:18<00:00,  4.12it/s]\n"
          ]
        },
        {
          "metadata": {
            "tags": null
          },
          "name": "stdout",
          "output_type": "stream",
          "text": [
            "Epoch 40, Loss: 6.2197, Accuracy: 0.44%, Top-1 Accuracy: 0.44%, Top-3 Accuracy: 1.43%\n"
          ]
        },
        {
          "metadata": {
            "tags": null
          },
          "name": "stderr",
          "output_type": "stream",
          "text": [
            "100%|██████████| 78/78 [00:18<00:00,  4.21it/s]\n"
          ]
        },
        {
          "metadata": {
            "tags": null
          },
          "name": "stdout",
          "output_type": "stream",
          "text": [
            "Epoch 41, Loss: 6.2149, Accuracy: 0.50%, Top-1 Accuracy: 0.50%, Top-3 Accuracy: 1.55%\n"
          ]
        },
        {
          "metadata": {
            "tags": null
          },
          "name": "stderr",
          "output_type": "stream",
          "text": [
            "100%|██████████| 78/78 [00:19<00:00,  4.09it/s]\n"
          ]
        },
        {
          "metadata": {
            "tags": null
          },
          "name": "stdout",
          "output_type": "stream",
          "text": [
            "Epoch 42, Loss: 6.2219, Accuracy: 0.40%, Top-1 Accuracy: 0.40%, Top-3 Accuracy: 1.40%\n"
          ]
        },
        {
          "metadata": {
            "tags": null
          },
          "name": "stderr",
          "output_type": "stream",
          "text": [
            "100%|██████████| 78/78 [00:18<00:00,  4.19it/s]\n"
          ]
        },
        {
          "metadata": {
            "tags": null
          },
          "name": "stdout",
          "output_type": "stream",
          "text": [
            "Epoch 43, Loss: 6.2214, Accuracy: 0.47%, Top-1 Accuracy: 0.47%, Top-3 Accuracy: 1.33%\n"
          ]
        },
        {
          "metadata": {
            "tags": null
          },
          "name": "stderr",
          "output_type": "stream",
          "text": [
            "100%|██████████| 78/78 [00:18<00:00,  4.14it/s]\n"
          ]
        },
        {
          "metadata": {
            "tags": null
          },
          "name": "stdout",
          "output_type": "stream",
          "text": [
            "Epoch 44, Loss: 6.2203, Accuracy: 0.34%, Top-1 Accuracy: 0.34%, Top-3 Accuracy: 1.19%\n"
          ]
        },
        {
          "metadata": {
            "tags": null
          },
          "name": "stderr",
          "output_type": "stream",
          "text": [
            "100%|██████████| 78/78 [00:18<00:00,  4.12it/s]\n"
          ]
        },
        {
          "metadata": {
            "tags": null
          },
          "name": "stdout",
          "output_type": "stream",
          "text": [
            "Epoch 45, Loss: 6.2266, Accuracy: 0.36%, Top-1 Accuracy: 0.36%, Top-3 Accuracy: 1.31%\n"
          ]
        },
        {
          "output_type": "stream",
          "name": "stderr",
          "text": [
            "100%|██████████| 78/78 [00:18<00:00,  4.12it/s]\n"
          ]
        },
        {
          "output_type": "stream",
          "name": "stdout",
          "text": [
            "Epoch 46, Loss: 6.2203, Accuracy: 0.50%, Top-1 Accuracy: 0.50%, Top-3 Accuracy: 1.44%\n"
          ]
        },
        {
          "output_type": "stream",
          "name": "stderr",
          "text": [
            "100%|██████████| 78/78 [00:19<00:00,  4.09it/s]\n"
          ]
        },
        {
          "output_type": "stream",
          "name": "stdout",
          "text": [
            "Epoch 47, Loss: 6.2500, Accuracy: 0.30%, Top-1 Accuracy: 0.30%, Top-3 Accuracy: 1.20%\n"
          ]
        },
        {
          "output_type": "stream",
          "name": "stderr",
          "text": [
            "100%|██████████| 78/78 [00:18<00:00,  4.14it/s]\n"
          ]
        },
        {
          "output_type": "stream",
          "name": "stdout",
          "text": [
            "Epoch 48, Loss: 6.2184, Accuracy: 0.33%, Top-1 Accuracy: 0.33%, Top-3 Accuracy: 1.20%\n"
          ]
        },
        {
          "output_type": "stream",
          "name": "stderr",
          "text": [
            "100%|██████████| 78/78 [00:18<00:00,  4.32it/s]\n"
          ]
        },
        {
          "output_type": "stream",
          "name": "stdout",
          "text": [
            "Epoch 49, Loss: 6.2266, Accuracy: 0.33%, Top-1 Accuracy: 0.33%, Top-3 Accuracy: 1.36%\n"
          ]
        },
        {
          "output_type": "stream",
          "name": "stderr",
          "text": [
            "100%|██████████| 78/78 [00:18<00:00,  4.19it/s]"
          ]
        },
        {
          "output_type": "stream",
          "name": "stdout",
          "text": [
            "Epoch 50, Loss: 6.2220, Accuracy: 0.47%, Top-1 Accuracy: 0.47%, Top-3 Accuracy: 1.55%\n"
          ]
        },
        {
          "output_type": "stream",
          "name": "stderr",
          "text": [
            "\n"
          ]
        }
      ]
    },
    {
      "cell_type": "code",
      "source": [
        "# Plot loss vs. epochs\n",
        "plt.figure(figsize=(10, 6))\n",
        "plt.plot(train_losses)\n",
        "plt.xlabel(\"Epoch\")\n",
        "plt.ylabel(\"Loss\")\n",
        "plt.title(\"Loss vs. Epochs\")\n",
        "plt.show()"
      ],
      "metadata": {
        "id": "SzsuVwNAfB3G",
        "colab": {
          "base_uri": "https://localhost:8080/",
          "height": 564
        },
        "outputId": "dd64985f-cf74-4616-bc57-227e09a18f03"
      },
      "execution_count": null,
      "outputs": [
        {
          "output_type": "display_data",
          "data": {
            "text/plain": [
              "<Figure size 1000x600 with 1 Axes>"
            ],
            "image/png": "[encoded data removed]"
          },
          "metadata": {}
        }
      ]
    },
    {
      "cell_type": "code",
      "source": [
        "# Plot accuracy vs. epochs\n",
        "plt.figure(figsize=(10, 6))\n",
        "plt.plot(train_accuracies, label=\"Accuracy\")\n",
        "plt.plot(train_top1_accuracies, label=\"Top-1 Accuracy\")\n",
        "plt.plot(train_top3_accuracies, label=\"Top-3 Accuracy\")\n",
        "plt.xlabel(\"Epoch\")\n",
        "plt.ylabel(\"Accuracy (%)\")\n",
        "plt.title(\"Accuracy vs. Epochs\")\n",
        "plt.legend()\n",
        "plt.show()"
      ],
      "metadata": {
        "colab": {
          "base_uri": "https://localhost:8080/",
          "height": 564
        },
        "id": "Rb4yPDPWcvov",
        "outputId": "725becc0-93b7-47a2-b41c-e69a25037aac"
      },
      "execution_count": null,
      "outputs": [
        {
          "output_type": "display_data",
          "data": {
            "text/plain": [
              "<Figure size 1000x600 with 1 Axes>"
            ],
            "image/png": "[encoded data removed]"
          },
          "metadata": {}
        }
      ]
    },
    {
      "cell_type": "code",
      "source": [],
      "metadata": {
        "id": "sJMeQRvcnAS3"
      },
      "execution_count": null,
      "outputs": []
    }
  ]
}